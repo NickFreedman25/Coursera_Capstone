{
    "cells": [
        {
            "cell_type": "markdown",
            "id": "993fb3b3-2f4e-455f-9348-4637e7d3e855",
            "metadata": {},
            "source": "This notebook will be used for the Coursera captsone project"
        },
        {
            "cell_type": "code",
            "execution_count": 1,
            "id": "ab6477f0-910a-4f17-8844-eb2f397a73bd",
            "metadata": {},
            "outputs": [],
            "source": "import pandas as pd\nimport numpy as np"
        },
        {
            "cell_type": "code",
            "execution_count": 2,
            "id": "201b59f0-a494-4e4a-868d-2f0885b89897",
            "metadata": {},
            "outputs": [
                {
                    "name": "stdout",
                    "output_type": "stream",
                    "text": "Hello Capstone Project Course!\n"
                }
            ],
            "source": "print(\"Hello Capstone Project Course!\")"
        },
        {
            "cell_type": "code",
            "execution_count": null,
            "id": "29cfcc84-8a8b-4942-a248-02517d3b19f5",
            "metadata": {},
            "outputs": [],
            "source": ""
        }
    ],
    "metadata": {
        "kernelspec": {
            "display_name": "Python 3.7",
            "language": "python",
            "name": "python3"
        },
        "language_info": {
            "codemirror_mode": {
                "name": "ipython",
                "version": 3
            },
            "file_extension": ".py",
            "mimetype": "text/x-python",
            "name": "python",
            "nbconvert_exporter": "python",
            "pygments_lexer": "ipython3",
            "version": "3.7.10"
        }
    },
    "nbformat": 4,
    "nbformat_minor": 5
}